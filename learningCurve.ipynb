{
 "cells": [
  {
   "cell_type": "markdown",
   "metadata": {},
   "source": [
    "# Helps in visualizing whether the model has bias or variance problem\n",
    "    calculates error in traing and validation set as number of training examples increase\n",
    "    \n",
    "    trainLinearReg function gives the optimize values of the parameters for the given training set\n",
    "    linearRegCostFunction returns [J,grad]"
   ]
  },
  {
   "cell_type": "code",
   "execution_count": 1,
   "metadata": {},
   "outputs": [],
   "source": [
    "def learningCurve(X,y,Xval,yval,lamda):\n",
    "    import numpy as np\n",
    "    m,n = X.shape\n",
    "    error_train = np.zeros((m,1))\n",
    "    error_val = np.zeros((m,1))\n",
    "    \n",
    "    for i in range(0,m):\n",
    "        theta = trainLinearReg(X[:i+1,:],y[:i+1],lamda)\n",
    "        theta = theta.reshape((n,1))\n",
    "        error_train[i] = linearRegCostFunction(X[:i+1,:],y[:i+1],theta,0)\n",
    "        error_val[i]=linearRegCostFunction(Xval,yval,theta,0)\n",
    "    \n",
    "    return (error_train,error_val)"
   ]
  },
  {
   "cell_type": "code",
   "execution_count": null,
   "metadata": {},
   "outputs": [],
   "source": []
  }
 ],
 "metadata": {
  "kernelspec": {
   "display_name": "Python 3",
   "language": "python",
   "name": "python3"
  },
  "language_info": {
   "codemirror_mode": {
    "name": "ipython",
    "version": 3
   },
   "file_extension": ".py",
   "mimetype": "text/x-python",
   "name": "python",
   "nbconvert_exporter": "python",
   "pygments_lexer": "ipython3",
   "version": "3.7.6"
  }
 },
 "nbformat": 4,
 "nbformat_minor": 4
}
