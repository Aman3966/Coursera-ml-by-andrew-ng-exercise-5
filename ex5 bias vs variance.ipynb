{
 "cells": [
  {
   "cell_type": "code",
   "execution_count": 1,
   "metadata": {},
   "outputs": [],
   "source": [
    "import numpy as np\n",
    "import pandas as pd\n",
    "import scipy.io\n",
    "import matplotlib.pyplot as plt"
   ]
  },
  {
   "cell_type": "code",
   "execution_count": 2,
   "metadata": {},
   "outputs": [],
   "source": [
    "data = scipy.io.loadmat('ex5data1.mat')\n",
    "X = data['X']\n",
    "y = data['y']\n",
    "Xtest = data['Xtest']\n",
    "ytest = data['ytest']\n",
    "Xval = data['Xval']\n",
    "yval = data['yval']"
   ]
  },
  {
   "cell_type": "code",
   "execution_count": 3,
   "metadata": {},
   "outputs": [],
   "source": [
    "m,n = X.shape"
   ]
  },
  {
   "cell_type": "markdown",
   "metadata": {},
   "source": [
    "# plotting the data"
   ]
  },
  {
   "cell_type": "code",
   "execution_count": 4,
   "metadata": {},
   "outputs": [
    {
     "data": {
      "image/png": "[encoded data removed]",
      "text/plain": [
       "<Figure size 432x288 with 1 Axes>"
      ]
     },
     "metadata": {
      "needs_background": "light"
     },
     "output_type": "display_data"
    }
   ],
   "source": [
    "plt.plot(X,y,'x')\n",
    "plt.xlabel('Change in water level (x)');\n",
    "plt.ylabel('Water flowing out of the dam (y)');"
   ]
  },
  {
   "cell_type": "markdown",
   "metadata": {},
   "source": [
    "# Regularized linear regression cost function"
   ]
  },
  {
   "cell_type": "code",
   "execution_count": 5,
   "metadata": {},
   "outputs": [],
   "source": [
    "def linearRegCostFunction(theta,X,y,lamda):\n",
    "    m,n= X.shape\n",
    "    J = 0\n",
    "    theta = theta.reshape((n,1))\n",
    "    temp = theta.copy()\n",
    "    temp[0]=0\n",
    "    z = X@theta\n",
    "  \n",
    "    J = (np.transpose(z-y)@(z-y))/(2*m) + (lamda/(2*m))*(np.transpose(temp)@temp)\n",
    "    J = float(np.sum(J,axis=0))\n",
    "    \n",
    "    return J"
   ]
  },
  {
   "cell_type": "code",
   "execution_count": 6,
   "metadata": {},
   "outputs": [],
   "source": [
    "def linearRegGradient(theta,X,y,lamda):\n",
    "    m = X.shape[0]\n",
    "    grad = np.zeros(theta.shape)\n",
    "    \n",
    "    temp = theta.copy()\n",
    "    temp[0]=0\n",
    "    z = X@theta  \n",
    "    \n",
    "    grad = (np.transpose(X)@(z-y))/m + (lamda/m)*temp\n",
    "    \n",
    "    return grad"
   ]
  },
  {
   "cell_type": "code",
   "execution_count": 12,
   "metadata": {},
   "outputs": [
    {
     "name": "stdout",
     "output_type": "stream",
     "text": [
      "303.9931922202643\n",
      "[[-15.30301567]\n",
      " [598.25074417]]\n"
     ]
    }
   ],
   "source": [
    "theta = np.array([[1],[1]])\n",
    "J = linearRegCostFunction(theta,np.append(np.ones((m,1)),X,axis=1), y, 1)\n",
    "grad = linearRegGradient(theta,np.append(np.ones((m,1)),X,axis=1),y,1)\n",
    "print(J)\n",
    "print(grad)"
   ]
  },
  {
   "cell_type": "markdown",
   "metadata": {},
   "source": [
    "# Train linear regression"
   ]
  },
  {
   "cell_type": "code",
   "execution_count": 13,
   "metadata": {},
   "outputs": [],
   "source": [
    "def trainLinearReg(X,y,lamda):\n",
    "    import numpy as np\n",
    "    import scipy.optimize as op\n",
    "    \n",
    "    initial_theta = np.zeros((X.shape[1],1)) \n",
    "    \n",
    "    Result = op.minimize(fun = linearRegCostFunction, x0 = initial_theta, args = (X, y,lamda))\n",
    "    return Result.x"
   ]
  },
  {
   "cell_type": "code",
   "execution_count": 14,
   "metadata": {},
   "outputs": [
    {
     "data": {
      "text/plain": [
       "Text(0, 0.5, 'Water flowing out of the dam (y)')"
      ]
     },
     "execution_count": 14,
     "metadata": {},
     "output_type": "execute_result"
    },
    {
     "data": {
      "image/png": "[encoded data removed]",
      "text/plain": [
       "<Figure size 432x288 with 1 Axes>"
      ]
     },
     "metadata": {
      "needs_background": "light"
     },
     "output_type": "display_data"
    }
   ],
   "source": [
    "lamda =0\n",
    "theta = trainLinearReg(np.append(np.ones((m,1)),X,axis=1), y, lamda)\n",
    "\n",
    "plt.plot(X,np.append(np.ones((m,1)),X,axis=1)@theta,'--')\n",
    "plt.plot(X,y,'x')\n",
    "plt.xlabel('Change in water level (x)');\n",
    "plt.ylabel('Water flowing out of the dam (y)')"
   ]
  },
  {
   "cell_type": "markdown",
   "metadata": {},
   "source": [
    "# Learing Curve for Linear regression"
   ]
  },
  {
   "cell_type": "code",
   "execution_count": 15,
   "metadata": {},
   "outputs": [],
   "source": [
    "def learningCurve(X,y,Xval,yval,lamda):\n",
    "    m,n=X.shape\n",
    "    error_train = np.zeros((m,1))\n",
    "    error_val = np.zeros((m,1))\n",
    "    \n",
    "    for i in range(0,m):\n",
    "        theta = trainLinearReg(X[:i+1,:],y[:i+1],lamda)\n",
    "        theta = theta.reshape((n,1))\n",
    "        error_train[i] = linearRegCostFunction(theta,X[:i+1,:],y[:i+1],0)\n",
    "        error_val[i]=linearRegCostFunction(theta,Xval,yval,0)\n",
    "    \n",
    "    return (error_train,error_val)"
   ]
  },
  {
   "cell_type": "code",
   "execution_count": 16,
   "metadata": {},
   "outputs": [
    {
     "data": {
      "text/plain": [
       "<matplotlib.legend.Legend at 0x1dcaafd0f48>"
      ]
     },
     "execution_count": 16,
     "metadata": {},
     "output_type": "execute_result"
    },
    {
     "data": {
      "image/png": "[encoded data removed]",
      "text/plain": [
       "<Figure size 432x288 with 1 Axes>"
      ]
     },
     "metadata": {
      "needs_background": "light"
     },
     "output_type": "display_data"
    }
   ],
   "source": [
    "error_train,error_val = learningCurve(np.append(np.ones((m,1)),X,axis=1),y,np.append(np.ones((Xval.shape[0],1))\n",
    "                                                                                     ,Xval,axis=1),yval,0)\n",
    "plt.plot(range(0,m),error_train,label = 'Train')\n",
    "plt.plot(range(0,m),error_val,label = 'Validation')\n",
    "plt.title('Learning curve for linear regression')\n",
    "plt.xlabel('Number of training examples')\n",
    "plt.ylabel('Error')\n",
    "plt.legend()"
   ]
  },
  {
   "cell_type": "markdown",
   "metadata": {},
   "source": [
    "# Feature mapping for polynomial features"
   ]
  },
  {
   "cell_type": "code",
   "execution_count": 62,
   "metadata": {},
   "outputs": [],
   "source": [
    "def polyFeatures(X,p):\n",
    "    from sklearn.preprocessing import PolynomialFeatures\n",
    "    trans = PolynomialFeatures(degree=p,include_bias = False)\n",
    "    X_poly = trans.fit_transform(X)\n",
    "    return X_poly"
   ]
  },
  {
   "cell_type": "code",
   "execution_count": 63,
   "metadata": {},
   "outputs": [],
   "source": [
    "def featureNormalize(X):\n",
    "    mu = np.mean(X,axis=0)\n",
    "    st_dev = np.std(X,axis=0)\n",
    "    X_norm = X-mu\n",
    "    X_norm = X_norm/st_dev\n",
    "    return X_norm"
   ]
  },
  {
   "cell_type": "code",
   "execution_count": 125,
   "metadata": {},
   "outputs": [],
   "source": [
    "X_poly = polyFeatures(X,8)\n",
    "X_poly = featureNormalize(X_poly)\n",
    "X_poly = np.append(np.ones((m,1)),X_poly,axis=1)"
   ]
  },
  {
   "cell_type": "code",
   "execution_count": 126,
   "metadata": {},
   "outputs": [],
   "source": [
    "Xtest_poly = polyFeatures(Xtest,8)\n",
    "Xtest_poly = featureNormalize(Xtest_poly)\n",
    "Xtest_poly = np.append(np.ones((Xtest.shape[0],1)),Xtest_poly,axis=1)"
   ]
  },
  {
   "cell_type": "code",
   "execution_count": 127,
   "metadata": {},
   "outputs": [],
   "source": [
    "Xval_poly = polyFeatures(Xval,8)\n",
    "Xval_poly = featureNormalize(Xval_poly)\n",
    "Xval_poly = np.append(np.ones((Xval.shape[0],1)),Xval_poly,axis=1)"
   ]
  },
  {
   "cell_type": "markdown",
   "metadata": {},
   "source": [
    "# Learning Curve for polynomial regression"
   ]
  },
  {
   "cell_type": "code",
   "execution_count": 128,
   "metadata": {},
   "outputs": [
    {
     "data": {
      "text/plain": [
       "<matplotlib.legend.Legend at 0x1dcae5e6dc8>"
      ]
     },
     "execution_count": 128,
     "metadata": {},
     "output_type": "execute_result"
    },
    {
     "data": {
      "image/png": "[encoded data removed]",
      "text/plain": [
       "<Figure size 432x288 with 1 Axes>"
      ]
     },
     "metadata": {
      "needs_background": "light"
     },
     "output_type": "display_data"
    }
   ],
   "source": [
    "error_train,error_val = learningCurve(X_poly,y,Xval_poly,yval,0)\n",
    "plt.plot(range(0,m),error_train,label = 'Train')\n",
    "plt.plot(range(0,m),error_val,label = 'Validation')\n",
    "plt.title('Learning curve for linear regression')\n",
    "plt.xlabel('Number of training examples')\n",
    "plt.ylabel('Error')\n",
    "plt.legend()"
   ]
  },
  {
   "cell_type": "markdown",
   "metadata": {},
   "source": [
    "# Validation for selecting lamda"
   ]
  },
  {
   "cell_type": "code",
   "execution_count": 129,
   "metadata": {},
   "outputs": [],
   "source": [
    "def validationCurve(X, y, Xval, yval,lamda_vec= [0 ,.001,0.003 ,.01,0.03 ,.1,0.3,1,3 ,10]):\n",
    "     \n",
    "    error_train = np.zeros((len(lamda_vec),1))\n",
    "    error_val = np.zeros((len(lamda_vec),1))\n",
    "    display(len(lamda_vec))\n",
    "    for i  in range(0,len(lamda_vec)):\n",
    "        lamda = lamda_vec[i]\n",
    "        theta = trainLinearReg(X,y,lamda)\n",
    "        error_train[i] = linearRegCostFunction(theta,X,y,0)\n",
    "        error_val[i] = linearRegCostFunction(theta,Xval,yval,0)\n",
    "        print(error_train[i],error_val[i],lamda)\n",
    "    return (error_train,error_val)"
   ]
  },
  {
   "cell_type": "code",
   "execution_count": 130,
   "metadata": {},
   "outputs": [
    {
     "data": {
      "text/plain": [
       "10"
      ]
     },
     "metadata": {},
     "output_type": "display_data"
    },
    {
     "name": "stdout",
     "output_type": "stream",
     "text": [
      "[0.02889052] [27.9453215] 0\n",
      "[0.10797883] [9.73246797] 0.001\n",
      "[0.16678686] [14.38287561] 0.003\n",
      "[0.21795177] [15.06372363] 0.01\n",
      "[0.27515028] [12.19542696] 0.03\n",
      "[0.43865815] [8.14965844] 0.1\n",
      "[0.86816795] [5.3780093] 0.3\n",
      "[1.95869056] [4.55653534] 1\n",
      "[4.52510643] [4.99882683] 3\n",
      "[14.82577659] [12.43694082] 10\n"
     ]
    },
    {
     "data": {
      "text/plain": [
       "<matplotlib.legend.Legend at 0x1dcae663f88>"
      ]
     },
     "execution_count": 130,
     "metadata": {},
     "output_type": "execute_result"
    },
    {
     "data": {
      "image/png": "[encoded data removed]",
      "text/plain": [
       "<Figure size 432x288 with 1 Axes>"
      ]
     },
     "metadata": {
      "needs_background": "light"
     },
     "output_type": "display_data"
    }
   ],
   "source": [
    "lamda_vec= [0 ,.001,0.003 ,.01, 0.03 ,.1, 0.3 ,1,3 ,10]\n",
    "error_train,error_val = validationCurve(X_poly, y, Xval_poly, yval)\n",
    "plt.plot(lamda_vec,error_train,label = 'Train')\n",
    "plt.plot(lamda_vec,error_val,label = 'Validation')\n",
    "plt.title('Learning curve for linear regression')\n",
    "plt.xlabel('Number of training examples')\n",
    "plt.ylabel('Error')\n",
    "plt.legend()"
   ]
  },
  {
   "cell_type": "code",
   "execution_count": null,
   "metadata": {},
   "outputs": [],
   "source": []
  }
 ],
 "metadata": {
  "kernelspec": {
   "display_name": "Python 3",
   "language": "python",
   "name": "python3"
  },
  "language_info": {
   "codemirror_mode": {
    "name": "ipython",
    "version": 3
   },
   "file_extension": ".py",
   "mimetype": "text/x-python",
   "name": "python",
   "nbconvert_exporter": "python",
   "pygments_lexer": "ipython3",
   "version": "3.7.6"
  }
 },
 "nbformat": 4,
 "nbformat_minor": 4
}
