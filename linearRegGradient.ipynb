{
 "cells": [
  {
   "cell_type": "code",
   "execution_count": 1,
   "metadata": {},
   "outputs": [],
   "source": [
    "def linearRegGradient(theta,X,y,lamda):\n",
    "    m = X.shape[0]\n",
    "    grad = np.zeros(theta.shape)\n",
    "    \n",
    "    temp = theta.copy()\n",
    "    temp[0]=0\n",
    "    z = X@theta  \n",
    "    \n",
    "    grad = (np.transpose(X)@(z-y))/m + (lamda/m)*temp\n",
    "    \n",
    "    return grad"
   ]
  },
  {
   "cell_type": "code",
   "execution_count": null,
   "metadata": {},
   "outputs": [],
   "source": []
  }
 ],
 "metadata": {
  "kernelspec": {
   "display_name": "Python 3",
   "language": "python",
   "name": "python3"
  },
  "language_info": {
   "codemirror_mode": {
    "name": "ipython",
    "version": 3
   },
   "file_extension": ".py",
   "mimetype": "text/x-python",
   "name": "python",
   "nbconvert_exporter": "python",
   "pygments_lexer": "ipython3",
   "version": "3.7.6"
  }
 },
 "nbformat": 4,
 "nbformat_minor": 4
}
