{
 "cells": [
  {
   "cell_type": "code",
   "execution_count": null,
   "metadata": {},
   "outputs": [],
   "source": []
  },
  {
   "cell_type": "code",
   "execution_count": 1,
   "metadata": {},
   "outputs": [],
   "source": [
    "def validationCurve(X, y, Xval, yval,lamda_vec= [0 ,.001,0.003 ,.01,0.03 ,.1,0.3,1,3 ,10]):\n",
    "     \n",
    "    error_train = np.zeros((len(lamda_vec),1))\n",
    "    error_val = np.zeros((len(lamda_vec),1))\n",
    "    display(len(lamda_vec))\n",
    "    for i  in range(0,len(lamda_vec)):\n",
    "        lamda = lamda_vec[i]\n",
    "        theta = trainLinearReg(X,y,lamda)\n",
    "        error_train[i] = linearRegCostFunction(theta,X,y,0)\n",
    "        error_val[i] = linearRegCostFunction(theta,Xval,yval,0)\n",
    "        print(error_train[i],error_val[i],lamda)\n",
    "    return (error_train,error_val)"
   ]
  },
  {
   "cell_type": "code",
   "execution_count": null,
   "metadata": {},
   "outputs": [],
   "source": []
  }
 ],
 "metadata": {
  "kernelspec": {
   "display_name": "Python 3",
   "language": "python",
   "name": "python3"
  },
  "language_info": {
   "codemirror_mode": {
    "name": "ipython",
    "version": 3
   },
   "file_extension": ".py",
   "mimetype": "text/x-python",
   "name": "python",
   "nbconvert_exporter": "python",
   "pygments_lexer": "ipython3",
   "version": "3.7.6"
  }
 },
 "nbformat": 4,
 "nbformat_minor": 4
}
