{
 "cells": [
  {
   "cell_type": "markdown",
   "metadata": {},
   "source": [
    "# function to normalize the input matrix\n",
    "    x = (x - mu)/std\n",
    "    use parameter dtype = np.floa32/np.float64 in np.mean() and np.std() for more precision "
   ]
  },
  {
   "cell_type": "code",
   "execution_count": 13,
   "metadata": {},
   "outputs": [],
   "source": [
    "def featureNormalize(X):\n",
    "    import numpy as np\n",
    "    mu = np.mean(X,axis=0)\n",
    "    st_dev = np.std(X,axis=0)\n",
    "    X_norm = X-mu\n",
    "    X_norm = X_norm/st_dev\n",
    "    return X_norm\n",
    "    "
   ]
  }
 ],
 "metadata": {
  "kernelspec": {
   "display_name": "Python 3",
   "language": "python",
   "name": "python3"
  },
  "language_info": {
   "codemirror_mode": {
    "name": "ipython",
    "version": 3
   },
   "file_extension": ".py",
   "mimetype": "text/x-python",
   "name": "python",
   "nbconvert_exporter": "python",
   "pygments_lexer": "ipython3",
   "version": "3.7.6"
  }
 },
 "nbformat": 4,
 "nbformat_minor": 4
}
