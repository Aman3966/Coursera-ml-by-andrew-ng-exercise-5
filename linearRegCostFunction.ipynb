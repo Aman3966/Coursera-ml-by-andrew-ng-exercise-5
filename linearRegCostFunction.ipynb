{
 "cells": [
  {
   "cell_type": "markdown",
   "metadata": {},
   "source": [
    "# Function to calculate regularized cost function and gradient\n"
   ]
  },
  {
   "cell_type": "code",
   "execution_count": 2,
   "metadata": {},
   "outputs": [],
   "source": [
    "def linearRegCostFunction(theta,X,y,lamda):\n",
    "    m,n= X.shape\n",
    "    J = 0\n",
    "    theta = theta.reshape((n,1))\n",
    "    temp = theta.copy()\n",
    "    temp[0]=0\n",
    "    z = X@theta\n",
    "  \n",
    "    J = (np.transpose(z-y)@(z-y))/(2*m) + (lamda/(2*m))*(np.transpose(temp)@temp)\n",
    "    J = float(np.sum(J,axis=0))\n",
    "    \n",
    "    return J"
   ]
  }
 ],
 "metadata": {
  "kernelspec": {
   "display_name": "Python 3",
   "language": "python",
   "name": "python3"
  },
  "language_info": {
   "codemirror_mode": {
    "name": "ipython",
    "version": 3
   },
   "file_extension": ".py",
   "mimetype": "text/x-python",
   "name": "python",
   "nbconvert_exporter": "python",
   "pygments_lexer": "ipython3",
   "version": "3.7.6"
  }
 },
 "nbformat": 4,
 "nbformat_minor": 4
}
